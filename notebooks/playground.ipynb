{
 "cells": [
  {
   "cell_type": "code",
   "execution_count": null,
   "metadata": {
    "tags": []
   },
   "outputs": [],
   "source": [
    "import torch\n",
    "from torch.utils.data import Dataset\n",
    "from glob import glob"
   ]
  },
  {
   "cell_type": "code",
   "execution_count": null,
   "metadata": {},
   "outputs": [],
   "source": [
    "# get gpu device\n",
    "device = torch.device(\"cuda\")\n",
    "print(torch.cuda.get_device_properties(device))"
   ]
  },
  {
   "cell_type": "code",
   "execution_count": null,
   "metadata": {},
   "outputs": [],
   "source": [
    "# get i/o filepaths\n",
    "input_paths = glob(\"/home/peter/data/split/RF_*\")\n",
    "output_path = \"/home/peter/data/split/aeration1.pt\"\n",
    "print(len(input_paths))"
   ]
  },
  {
   "cell_type": "code",
   "execution_count": null,
   "metadata": {},
   "outputs": [],
   "source": []
  },
  {
   "cell_type": "code",
   "execution_count": null,
   "metadata": {},
   "outputs": [],
   "source": [
    "x0 = torch.load(input_paths[0])\n",
    "y = torch.load(output_path)\n",
    "y.shape"
   ]
  },
  {
   "cell_type": "code",
   "execution_count": null,
   "metadata": {},
   "outputs": [],
   "source": [
    "x0.shape"
   ]
  },
  {
   "cell_type": "code",
   "execution_count": null,
   "metadata": {
    "tags": []
   },
   "outputs": [],
   "source": [
    "# viz\n",
    "import sys\n",
    "sys.path.append(\"../\")\n",
    "from cdatasets import UltrasoundDataset\n",
    "\n",
    "ds = UltrasoundDataset()"
   ]
  },
  {
   "cell_type": "code",
   "execution_count": null,
   "metadata": {
    "tags": []
   },
   "outputs": [],
   "source": [
    "x, y = ds[0]\n",
    "print(x.shape, y.shape)"
   ]
  },
  {
   "cell_type": "code",
   "execution_count": null,
   "metadata": {
    "tags": []
   },
   "outputs": [],
   "source": [
    "a = torch.rand([2, 4])\n",
    "b = torch.rand([14, 4])\n",
    "print(a.shape, b.shape)\n",
    "torch.cat([a, b], axis=0).shape"
   ]
  },
  {
   "cell_type": "code",
   "execution_count": null,
   "metadata": {
    "tags": []
   },
   "outputs": [],
   "source": [
    "# output\n",
    "import torch.nn as nn\n",
    "import torch.nn.functional as F\n",
    "\n",
    "l1 = nn.Conv2d(64, 1, kernel_size=1)\n",
    "l2 = nn.AvgPool2d(2, stride=2)\n",
    "l3 = nn.AvgPool1d(2, stride=2)"
   ]
  },
  {
   "cell_type": "code",
   "execution_count": null,
   "metadata": {
    "tags": []
   },
   "outputs": [],
   "source": [
    "x = torch.rand(64, 64, 128)\n",
    "x = l1(x)\n",
    "print(x.shape)\n",
    "x = l2(x)\n",
    "x = x.flatten().unsqueeze(0)\n",
    "print(x.shape)\n",
    "\n",
    "x = l3(x)\n",
    "x = x.squeeze()\n",
    "x = F.pad(x, (0, 1), \"constant\", 0)\n",
    "print(x.shape)"
   ]
  },
  {
   "cell_type": "code",
   "execution_count": null,
   "metadata": {
    "tags": []
   },
   "outputs": [],
   "source": [
    "32 * 32"
   ]
  },
  {
   "cell_type": "code",
   "execution_count": null,
   "metadata": {
    "tags": []
   },
   "outputs": [],
   "source": [
    "a = torch.rand((4))\n",
    "a.shape"
   ]
  },
  {
   "cell_type": "code",
   "execution_count": null,
   "metadata": {
    "tags": []
   },
   "outputs": [],
   "source": [
    "a"
   ]
  },
  {
   "cell_type": "code",
   "execution_count": null,
   "metadata": {},
   "outputs": [],
   "source": [
    "a = torch.tensor([[1, 2, 3, 4], [1, 5, 5, 5]], dtype=float)\n",
    "b = torch.tensor([[1, 2, 3, 4], [0, 5, 5, 5]], dtype=float)\n",
    "print(a.shape, b.shape)\n",
    "loss_fn = nn.L1Loss()\n",
    "print(loss_fn(a, b))"
   ]
  },
  {
   "cell_type": "code",
   "execution_count": null,
   "metadata": {},
   "outputs": [],
   "source": [
    "for x in ds[0][1]:\n",
    "    print(x)\n"
   ]
  },
  {
   "cell_type": "code",
   "execution_count": null,
   "metadata": {},
   "outputs": [],
   "source": [
    "import numpy as np\n",
    "pred = np.array([1, 2, 3])\n",
    "actual = np.array([2, 3, 4])\n",
    "\n",
    "\n",
    "pred = pred * 100\n",
    "actual = actual * 100\n",
    "\n",
    "for y, y_pred in zip(actual, pred):\n",
    "    print(abs(y - y_pred) / y)"
   ]
  },
  {
   "cell_type": "code",
   "execution_count": null,
   "metadata": {},
   "outputs": [],
   "source": [
    "# wandb\n",
    "import wandb\n",
    "import time\n",
    "import random\n",
    "from tqdm import trange\n",
    "wandb.init(\n",
    "    # set the wandb project where this run will be logged\n",
    "    # name=\"test-1\",\n",
    "    project=\"ultrasound-trial-1d\",\n",
    "    # track hyperparameters and run metadata\n",
    "    config={\n",
    "        \"learning_rate\": 0.02,\n",
    "        \"architecture\": \"CNN\",\n",
    "        \"dataset\": \"CIFAR-100\",\n",
    "        \"epochs\": 10,\n",
    "    },\n",
    ")\n",
    "\n",
    "for i in trange(200):\n",
    "    time.sleep(1)\n",
    "    wandb.log({\"acc\": random.random(), \"loss\": random.random() * 100})"
   ]
  },
  {
   "cell_type": "code",
   "execution_count": 3,
   "metadata": {},
   "outputs": [
    {
     "name": "stdout",
     "output_type": "stream",
     "text": [
      "Average Percent Error: 0.0%\n"
     ]
    }
   ],
   "source": [
    "import torch\n",
    "\n",
    "def calculate_percent_error(target, prediction):\n",
    "    # Calculate absolute percent error for each sample\n",
    "    abs_percent_error = torch.abs((target - prediction) / target) * 100.0\n",
    "\n",
    "    # Calculate average percent error across all samples in the batch\n",
    "    average_percent_error = torch.mean(abs_percent_error, dim=1)\n",
    "\n",
    "    # Calculate the overall average percent error across all samples\n",
    "    overall_average_percent_error = torch.mean(average_percent_error)\n",
    "\n",
    "    return overall_average_percent_error.item()\n",
    "\n",
    "# Example usage:\n",
    "# Assuming target_tensor and prediction_tensor are your tensors of shape (16, 1025)\n",
    "target_tensor = torch.randn((16, 1025))\n",
    "prediction_tensor = torch.randn((16, 1025))\n",
    "\n",
    "accuracy = calculate_percent_error(target_tensor, target_tensor)\n",
    "print(f'Average Percent Error: {accuracy}%')\n"
   ]
  },
  {
   "cell_type": "code",
   "execution_count": null,
   "metadata": {},
   "outputs": [],
   "source": []
  }
 ],
 "metadata": {
  "kernelspec": {
   "display_name": "Python 3 (ipykernel)",
   "language": "python",
   "name": "python3"
  },
  "language_info": {
   "codemirror_mode": {
    "name": "ipython",
    "version": 3
   },
   "file_extension": ".py",
   "mimetype": "text/x-python",
   "name": "python",
   "nbconvert_exporter": "python",
   "pygments_lexer": "ipython3",
   "version": "3.11.0"
  }
 },
 "nbformat": 4,
 "nbformat_minor": 4
}
