{
 "cells": [
  {
   "cell_type": "code",
   "execution_count": 1,
   "metadata": {},
   "outputs": [],
   "source": [
    "import matplotlib.pyplot as plt\n",
    "import matplotlib.animation as animation\n",
    "import torch\n",
    "import sys\n",
    "sys.path.append(\"../\")\n",
    "from cdatasets import UltrasoundDataset\n",
    "import numpy as np\n",
    "from joblib import Parallel, delayed"
   ]
  },
  {
   "cell_type": "code",
   "execution_count": 2,
   "metadata": {},
   "outputs": [],
   "source": [
    "ds = UltrasoundDataset()"
   ]
  },
  {
   "cell_type": "code",
   "execution_count": 3,
   "metadata": {},
   "outputs": [],
   "source": [
    "def viz_input(idx):\n",
    "    x, _ = ds[idx]\n",
    "    x_chunked = x.squeeze().chunk(1509, dim=0)\n",
    "    fig, ax = plt.subplots()\n",
    "    img = ax.imshow(x_chunked[0][0], animated=True)\n",
    "\n",
    "    def update(frame):\n",
    "        ax.set_title(f\"frame: {frame}\")\n",
    "        img.set_array(x_chunked[frame][0])\n",
    "        return img,\n",
    "\n",
    "    ani = animation.FuncAnimation(fig, update, frames=range(1509), interval=10)\n",
    "    ani.save(f\"data/input_viz/{idx}.mp4\", writer=animation.FFMpegWriter(fps=60))"
   ]
  },
  {
   "cell_type": "code",
   "execution_count": 20,
   "metadata": {},
   "outputs": [
    {
     "data": {
      "text/plain": [
       "[None, None, None, None, None, None, None, None, None, None]"
      ]
     },
     "execution_count": 20,
     "metadata": {},
     "output_type": "execute_result"
    }
   ],
   "source": [
    "Parallel(n_jobs=-1)(delayed(viz_input)(idx) for idx in range(10))"
   ]
  }
 ],
 "metadata": {
  "kernelspec": {
   "display_name": "base",
   "language": "python",
   "name": "python3"
  },
  "language_info": {
   "codemirror_mode": {
    "name": "ipython",
    "version": 3
   },
   "file_extension": ".py",
   "mimetype": "text/x-python",
   "name": "python",
   "nbconvert_exporter": "python",
   "pygments_lexer": "ipython3",
   "version": "3.11.0"
  }
 },
 "nbformat": 4,
 "nbformat_minor": 2
}
