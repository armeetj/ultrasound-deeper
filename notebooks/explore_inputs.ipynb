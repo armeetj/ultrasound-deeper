{
 "cells": [
  {
   "cell_type": "code",
   "execution_count": 1,
   "metadata": {},
   "outputs": [],
   "source": [
    "import sys\n",
    "sys.path.append(\"..\")\n",
    "import cdatasets\n",
    "import torch\n",
    "import torch.nn.functional as F"
   ]
  },
  {
   "cell_type": "markdown",
   "metadata": {},
   "source": [
    "1 x 1024, 64, 128\n",
    "1 channel, 1509 time samples, (64 x 128) spatial"
   ]
  },
  {
   "cell_type": "code",
   "execution_count": 2,
   "metadata": {},
   "outputs": [
    {
     "name": "stdout",
     "output_type": "stream",
     "text": [
      "torch.Size([1, 1, 1024, 64, 128]) torch.Size([1, 1025])\n"
     ]
    }
   ],
   "source": [
    "ds = cdatasets.UltrasoundDataset()\n",
    "x, y = ds[0]\n",
    "x, y = x.unsqueeze(0), y.unsqueeze(0)\n",
    "print(x.shape, y.shape)"
   ]
  },
  {
   "cell_type": "code",
   "execution_count": 3,
   "metadata": {},
   "outputs": [
    {
     "name": "stdout",
     "output_type": "stream",
     "text": [
      "tensor(-43213.1250) tensor(39494.6094)\n",
      "tensor(0.3655) tensor(0.6119)\n"
     ]
    }
   ],
   "source": [
    "print(torch.min(x), torch.max(x))\n",
    "print(torch.min(y), torch.max(y))"
   ]
  },
  {
   "cell_type": "code",
   "execution_count": 4,
   "metadata": {},
   "outputs": [
    {
     "name": "stdout",
     "output_type": "stream",
     "text": [
      "torch.Size([1, 1, 1024, 64, 128]) torch.Size([1, 1025])\n"
     ]
    }
   ],
   "source": [
    "x_norm = F.normalize(x)\n",
    "y_norm = y / 100.0\n",
    "print(x_norm.shape, y_norm.shape)"
   ]
  },
  {
   "cell_type": "code",
   "execution_count": 5,
   "metadata": {},
   "outputs": [
    {
     "name": "stdout",
     "output_type": "stream",
     "text": [
      "tensor(-1.) tensor(1.)\n",
      "tensor(0.0037) tensor(0.0061)\n"
     ]
    }
   ],
   "source": [
    "print(torch.min(x_norm), torch.max(x_norm))\n",
    "print(torch.min(y_norm), torch.max(y_norm))"
   ]
  },
  {
   "cell_type": "code",
   "execution_count": null,
   "metadata": {},
   "outputs": [],
   "source": []
  }
 ],
 "metadata": {
  "kernelspec": {
   "display_name": "base",
   "language": "python",
   "name": "python3"
  },
  "language_info": {
   "codemirror_mode": {
    "name": "ipython",
    "version": 3
   },
   "file_extension": ".py",
   "mimetype": "text/x-python",
   "name": "python",
   "nbconvert_exporter": "python",
   "pygments_lexer": "ipython3",
   "version": "3.11.0"
  }
 },
 "nbformat": 4,
 "nbformat_minor": 2
}
