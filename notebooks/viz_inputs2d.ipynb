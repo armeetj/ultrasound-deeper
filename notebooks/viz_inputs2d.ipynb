{
 "cells": [
  {
   "cell_type": "code",
   "execution_count": 3,
   "metadata": {},
   "outputs": [],
   "source": [
    "import matplotlib.pyplot as plt\n",
    "import matplotlib.animation as animation\n",
    "import torch\n",
    "import sys\n",
    "sys.path.append(\"../\")\n",
    "import datasets_2d as ds\n",
    "import numpy as np\n",
    "from joblib import Parallel, delayed\n",
    "from glob import glob"
   ]
  },
  {
   "cell_type": "code",
   "execution_count": 18,
   "metadata": {},
   "outputs": [
    {
     "name": "stdout",
     "output_type": "stream",
     "text": [
      "/home/peter/data/bfrf/3266.pt torch.Size([1509, 128])\n"
     ]
    }
   ],
   "source": [
    "data_path = \"/home/peter/data/bfrf/*\"\n",
    "file = glob(data_path)[0]\n",
    "data = torch.load(file)\n",
    "print(file, data.shape)"
   ]
  },
  {
   "cell_type": "code",
   "execution_count": 19,
   "metadata": {},
   "outputs": [
    {
     "name": "stdout",
     "output_type": "stream",
     "text": [
      "/home/peter/data/2dmap/3266.pt torch.Size([48, 1025])\n"
     ]
    }
   ],
   "source": [
    "data_path = \"/home/peter/data/2dmap/*\"\n",
    "file = glob(data_path)[0]\n",
    "print(globl)\n",
    "data = torch.load(file)\n",
    "print(file, data.shape)"
   ]
  },
  {
   "cell_type": "code",
   "execution_count": null,
   "metadata": {},
   "outputs": [],
   "source": []
  }
 ],
 "metadata": {
  "kernelspec": {
   "display_name": "base",
   "language": "python",
   "name": "python3"
  },
  "language_info": {
   "codemirror_mode": {
    "name": "ipython",
    "version": 3
   },
   "file_extension": ".py",
   "mimetype": "text/x-python",
   "name": "python",
   "nbconvert_exporter": "python",
   "pygments_lexer": "ipython3",
   "version": "3.11.5"
  }
 },
 "nbformat": 4,
 "nbformat_minor": 2
}
